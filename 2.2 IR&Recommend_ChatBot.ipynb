{
 "cells": [
  {
   "cell_type": "markdown",
   "metadata": {},
   "source": [
    "### Processing csv files into multiple structured stored txt files"
   ]
  },
  {
   "cell_type": "code",
   "execution_count": null,
   "metadata": {},
   "outputs": [],
   "source": [
    "import pandas as pd\n",
    "import os"
   ]
  },
  {
   "cell_type": "code",
   "execution_count": null,
   "metadata": {},
   "outputs": [
    {
     "name": "stdout",
     "output_type": "stream",
     "text": [
      "['PG-13' 'TV-MA' 'PG' 'TV-14' 'TV-PG' 'TV-Y' 'TV-Y7' 'R' 'TV-G' 'G'\n",
      " 'NC-17' 'Unknown' 'NR' 'TV-Y7-FV' 'UR']\n"
     ]
    }
   ],
   "source": [
    "df = pd.read_csv(\"netflix_titles.csv\")\n",
    "df.fillna('Unknown', inplace=True)\n",
    "df['rating'] = df['rating'].replace(['74 min', '84 min', '66 min'], 'Unknown')\n",
    "print(df['rating'].unique())"
   ]
  },
  {
   "cell_type": "code",
   "execution_count": null,
   "metadata": {},
   "outputs": [],
   "source": [
    "data = df\n",
    "\n",
    "if not os.path.exists('netflix'):\n",
    "    os.makedirs('netflix')\n",
    "\n",
    "for index, row in data.iterrows():\n",
    "\n",
    "    filename = f\"netflix/{row['show_id']}.txt\"\n",
    "\n",
    "    with open(filename, 'w', encoding='utf-8') as f:\n",
    "        f.write(f\"Show ID: {row['show_id']}\\n\")\n",
    "        f.write(f\"Type: {row['type']}\\n\")\n",
    "        f.write(f\"Show Title: {row['title']}\\n\")\n",
    "        f.write(f\"Director: {row['director']}\\n\")\n",
    "        f.write(f\"Cast: {row['cast']}\\n\")\n",
    "        f.write(f\"Country: {row['country']}\\n\")\n",
    "        f.write(f\"Date Added to netflix: {row['date_added']}\\n\")\n",
    "        f.write(f\"Release Year: {row['release_year']}\\n\")\n",
    "        f.write(f\"Rating: {row['rating']}\\n\")\n",
    "        f.write(f\"Duration: {row['duration']}\\n\")\n",
    "        f.write(f\"Listed In: {row['listed_in']}\\n\")\n",
    "        f.write(f\"Description: {row['description']}\\n\")\n"
   ]
  },
  {
   "cell_type": "markdown",
   "metadata": {},
   "source": [
    "### Build Langchain"
   ]
  },
  {
   "cell_type": "code",
   "execution_count": 1,
   "metadata": {},
   "outputs": [],
   "source": [
    "import os\n",
    "os.environ[\"OPENAI_API_KEY\"] = ' '\n",
    "from langchain import hub\n",
    "from langchain.chains import create_retrieval_chain\n",
    "from langchain.chains.combine_documents import create_stuff_documents_chain\n",
    "from langchain.text_splitter import CharacterTextSplitter\n",
    "from langchain_openai import OpenAIEmbeddings, ChatOpenAI\n",
    "from langchain_community.vectorstores.faiss import FAISS\n",
    "from langchain.document_loaders import DirectoryLoader"
   ]
  },
  {
   "cell_type": "code",
   "execution_count": 2,
   "metadata": {},
   "outputs": [],
   "source": [
    "loader = DirectoryLoader('netflix/', glob='**/*.txt')\n",
    "documents = loader.load()"
   ]
  },
  {
   "cell_type": "code",
   "execution_count": 3,
   "metadata": {},
   "outputs": [],
   "source": [
    "text_splitter = CharacterTextSplitter( chunk_size=1000, chunk_overlap=50, separator=\"\\n\" ) \n",
    "\n",
    "docs = text_splitter.split_documents(documents)"
   ]
  },
  {
   "cell_type": "code",
   "execution_count": 4,
   "metadata": {},
   "outputs": [],
   "source": [
    "embeddings = OpenAIEmbeddings()"
   ]
  },
  {
   "cell_type": "code",
   "execution_count": 5,
   "metadata": {},
   "outputs": [],
   "source": [
    "# Set up local FAISS vector databases \n",
    "from langchain_community.vectorstores.faiss import FAISS\n",
    "\n",
    "# vectorstore = FAISS.from_documents(docs, embeddings)    \n",
    "# vectorstore.save_local(\"vector_db\")"
   ]
  },
  {
   "cell_type": "code",
   "execution_count": 6,
   "metadata": {},
   "outputs": [],
   "source": [
    "retrieval_qa_chat_prompt = hub.pull(\"langchain-ai/retrieval-qa-chat\")\n",
    "\n",
    "llm = ChatOpenAI()\n",
    "\n",
    "combine_docs_chain = create_stuff_documents_chain(llm, retrieval_qa_chat_prompt)"
   ]
  },
  {
   "cell_type": "code",
   "execution_count": 7,
   "metadata": {},
   "outputs": [
    {
     "name": "stdout",
     "output_type": "stream",
     "text": [
      "Based on the information provided, I recommend checking out \"The Comedy Lineup\" and \"COMEDIANS of the world\" on Netflix. These shows feature a diverse group of up-and-coming comedians from different regions performing stand-up comedy sets, providing a fresh and entertaining comedic experience.\n"
     ]
    }
   ],
   "source": [
    "from langchain.chains import create_retrieval_chain\n",
    "\n",
    "retriever = FAISS.load_local(\"vector_db\", embeddings, allow_dangerous_deserialization=True).as_retriever()\n",
    "\n",
    "retrieval_chain = create_retrieval_chain(retriever, combine_docs_chain)\n",
    "\n",
    "response = retrieval_chain.invoke({\"input\": \"Can you recommend me some new comedy TV shows?\"})\n",
    "\n",
    "print(response[\"answer\"])"
   ]
  },
  {
   "cell_type": "markdown",
   "metadata": {},
   "source": [
    "### Content Analysis and Correlation Exploration"
   ]
  },
  {
   "cell_type": "code",
   "execution_count": 9,
   "metadata": {},
   "outputs": [
    {
     "name": "stdout",
     "output_type": "stream",
     "text": [
      "There is no information provided in the context about any directors or casts that work together frequently.\n"
     ]
    }
   ],
   "source": [
    "response = retrieval_chain.invoke({\"input\": \"Which director and cast work with each other frequently?\"})\n",
    "\n",
    "print(response[\"answer\"])"
   ]
  },
  {
   "cell_type": "markdown",
   "metadata": {},
   "source": [
    "### Q&A Start"
   ]
  },
  {
   "cell_type": "code",
   "execution_count": 8,
   "metadata": {},
   "outputs": [
    {
     "name": "stdout",
     "output_type": "stream",
     "text": [
      "The genre of \"Birth of the Dragon\" is Action & Adventure and Dramas.\n"
     ]
    }
   ],
   "source": [
    "response = retrieval_chain.invoke({\"input\": \"What is the genre of the Birth of the Dragon\"})\n",
    "\n",
    "print(response[\"answer\"])"
   ]
  },
  {
   "cell_type": "code",
   "execution_count": 9,
   "metadata": {},
   "outputs": [
    {
     "name": "stdout",
     "output_type": "stream",
     "text": [
      "The director of \"Birth of the Dragon\" is George Nolfi.\n"
     ]
    }
   ],
   "source": [
    "response = retrieval_chain.invoke({\"input\": \"Who is the director of the Birth of the Dragon\"})\n",
    "\n",
    "print(response[\"answer\"])"
   ]
  },
  {
   "cell_type": "code",
   "execution_count": 20,
   "metadata": {},
   "outputs": [
    {
     "name": "stdout",
     "output_type": "stream",
     "text": [
      "Sara Colangelo is the director of the movie \"The Kindergarten Teacher.\"\n"
     ]
    }
   ],
   "source": [
    "response = retrieval_chain.invoke({\"input\": \"Who is Sara Colangelo?\"})\n",
    "\n",
    "print(response[\"answer\"])"
   ]
  },
  {
   "cell_type": "code",
   "execution_count": 22,
   "metadata": {},
   "outputs": [
    {
     "name": "stdout",
     "output_type": "stream",
     "text": [
      "Jim Henson has directed two films: \"Labyrinth\" and \"The Dark Crystal.\"\n"
     ]
    }
   ],
   "source": [
    "response = retrieval_chain.invoke({\"input\": \"What films has Jim Henson directed?\"})\n",
    "\n",
    "print(response[\"answer\"])"
   ]
  },
  {
   "cell_type": "code",
   "execution_count": 23,
   "metadata": {},
   "outputs": [
    {
     "name": "stdout",
     "output_type": "stream",
     "text": [
      "Comedy Premium League is a TV show where 16 of India's wittiest entertainers compete in teams through satirical sketches, cheeky debates, and blistering roasts to be named the ultimate comedy champs. The show features a competitive atmosphere as these comedians showcase their humor and wit to win the title.\n"
     ]
    }
   ],
   "source": [
    "response = retrieval_chain.invoke({\"input\": \"tell me the story of Comedy Premium League\"})\n",
    "\n",
    "print(response[\"answer\"])"
   ]
  },
  {
   "cell_type": "code",
   "execution_count": 24,
   "metadata": {},
   "outputs": [
    {
     "name": "stdout",
     "output_type": "stream",
     "text": [
      "The main actors and actresses of \"Comedy Premium League\" are unknown as the information provided does not list the specific cast members.\n"
     ]
    }
   ],
   "source": [
    "response = retrieval_chain.invoke({\"input\": \"Who are the main actors and actresses of Comedy Premium League\"})\n",
    "\n",
    "print(response[\"answer\"])"
   ]
  },
  {
   "cell_type": "markdown",
   "metadata": {},
   "source": [
    "#### the above answer is correct as the information provided does not list the specific cast members."
   ]
  },
  {
   "cell_type": "code",
   "execution_count": 25,
   "metadata": {},
   "outputs": [
    {
     "name": "stdout",
     "output_type": "stream",
     "text": [
      "The main cast of \"Korean Cold Noodle Rhapsody\" includes Paik Jong-won.\n"
     ]
    }
   ],
   "source": [
    "response = retrieval_chain.invoke({\"input\": \"Who are the main actors and actresses of Korean Cold Noodle Rhapsody\"})\n",
    "\n",
    "print(response[\"answer\"])"
   ]
  },
  {
   "cell_type": "code",
   "execution_count": 26,
   "metadata": {},
   "outputs": [
    {
     "name": "stdout",
     "output_type": "stream",
     "text": [
      "Korean Cold Noodle Rhapsody has a duration of 1 season.\n"
     ]
    }
   ],
   "source": [
    "response = retrieval_chain.invoke({\"input\": \"How long is Korean Cold Noodle Rhapsody\"})\n",
    "\n",
    "print(response[\"answer\"])"
   ]
  },
  {
   "cell_type": "code",
   "execution_count": 28,
   "metadata": {},
   "outputs": [
    {
     "name": "stdout",
     "output_type": "stream",
     "text": [
      "Colombia produced Lokillo: Nothing's the Same.\n"
     ]
    }
   ],
   "source": [
    "response = retrieval_chain.invoke({\"input\": \"Which country produced Lokillo: Nothing's the Same\"})\n",
    "\n",
    "print(response[\"answer\"])"
   ]
  },
  {
   "cell_type": "code",
   "execution_count": 32,
   "metadata": {},
   "outputs": [
    {
     "name": "stdout",
     "output_type": "stream",
     "text": [
      "One movie where Lee Jung-jae primarily starred in is \"Chief of Staff,\" which is a TV Show.\n"
     ]
    }
   ],
   "source": [
    "response = retrieval_chain.invoke({\"input\": \"recommend a few movies that Lee Jung-jae was mainly in?\"})\n",
    "\n",
    "print(response[\"answer\"])"
   ]
  },
  {
   "cell_type": "code",
   "execution_count": 33,
   "metadata": {},
   "outputs": [
    {
     "name": "stdout",
     "output_type": "stream",
     "text": [
      "One popular recent movie on Netflix is \"Us and Them.\" Directed by Rene Liu, this Chinese romantic drama follows the story of two strangers who meet on a train and form a bond that evolves over the years. After a separation, they reconnect and reflect on their love for each other. The film, released in 2018, stars Jing Boran, Zhou Dongyu, Zhuangzhuang Tian, Qu Zheming, and Zhang Zixian. With a duration of 119 minutes and a TV-MA rating, \"Us and Them\" is listed in the categories of Dramas, International Movies, and Romantic Movies.\n"
     ]
    }
   ],
   "source": [
    "response = retrieval_chain.invoke({\"input\": \"recommend any recent popular movies and introduce\"})\n",
    "\n",
    "print(response[\"answer\"])\n"
   ]
  },
  {
   "cell_type": "code",
   "execution_count": 34,
   "metadata": {},
   "outputs": [
    {
     "name": "stdout",
     "output_type": "stream",
     "text": [
      "Some movies with a similar plot to \"Jeans\" could include romantic comedies where characters create alter egos or engage in elaborate schemes to win back their love interests. Examples could include movies like \"Cyrano de Bergerac,\" \"She's the Man,\" or \"Tootsie.\"\n"
     ]
    }
   ],
   "source": [
    "response = retrieval_chain.invoke({\"input\": \"What are some movies with a similar plot to Jeans\"})\n",
    "\n",
    "print(response[\"answer\"])"
   ]
  },
  {
   "cell_type": "code",
   "execution_count": 35,
   "metadata": {},
   "outputs": [
    {
     "name": "stdout",
     "output_type": "stream",
     "text": [
      "Based on your preference to relax, I recommend watching \"Headspace: Unwind Your Mind.\" It is an interactive special that allows you to personalize the experience according to your mood or mindset, perfect for unwinding after a long day at work.\n"
     ]
    }
   ],
   "source": [
    "response = retrieval_chain.invoke({\"input\": \"It's been a long day at work and I'd like to relax. Do you have any movie recommendations?\"})\n",
    "\n",
    "print(response[\"answer\"])"
   ]
  },
  {
   "cell_type": "code",
   "execution_count": 36,
   "metadata": {},
   "outputs": [
    {
     "name": "stdout",
     "output_type": "stream",
     "text": [
      "Singapore has a growing film industry that produces a variety of content, including movies and TV shows. The film \"Singapore Social\" provides a glimpse into the lives of young Singaporeans, while the movie \"A Land Imagined\" delves into a mystery involving a Chinese migrant worker in Singapore. The industry seems to be exploring diverse themes and collaborating with international partners, as seen in the countries listed for co-productions like France and the Netherlands.\n"
     ]
    }
   ],
   "source": [
    "response = retrieval_chain.invoke({\"input\": \"tell me something about the film industry in Singapore\"})\n",
    "\n",
    "print(response[\"answer\"])"
   ]
  },
  {
   "cell_type": "code",
   "execution_count": 37,
   "metadata": {},
   "outputs": [
    {
     "name": "stdout",
     "output_type": "stream",
     "text": [
      "Based on the information provided, I recommend checking out \"The Comedy Lineup\" and \"COMEDIANS of the world\" on Netflix. Both shows feature a diverse group of up-and-coming comedians and established comics performing stand-up sets, offering a mix of humor from different regions and perspectives.\n"
     ]
    }
   ],
   "source": [
    "response = retrieval_chain.invoke({\"input\": \"recommend me some new comedy TV shows?\"})\n",
    "\n",
    "print(response[\"answer\"])"
   ]
  }
 ],
 "metadata": {
  "kernelspec": {
   "display_name": "Python 3",
   "language": "python",
   "name": "python3"
  },
  "language_info": {
   "codemirror_mode": {
    "name": "ipython",
    "version": 3
   },
   "file_extension": ".py",
   "mimetype": "text/x-python",
   "name": "python",
   "nbconvert_exporter": "python",
   "pygments_lexer": "ipython3",
   "version": "3.9.4"
  }
 },
 "nbformat": 4,
 "nbformat_minor": 2
}
