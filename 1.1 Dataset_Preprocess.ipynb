{
 "cells": [
  {
   "cell_type": "markdown",
   "metadata": {},
   "source": [
    "# Dataset Preprocessing"
   ]
  },
  {
   "attachments": {},
   "cell_type": "markdown",
   "id": "4b89b0d2",
   "metadata": {},
   "source": [
    "### Multi-label processing"
   ]
  },
  {
   "attachments": {},
   "cell_type": "markdown",
   "id": "70e20e06",
   "metadata": {},
   "source": [
    "The listed_ columns are the categories to which the work belongs, which are separated by \",\"\n",
    "\n",
    "\n",
    "So for each sample, the label should be a binary vector indicating whether each possible category exists or not."
   ]
  },
  {
   "cell_type": "code",
   "execution_count": 2,
   "id": "4ad65ef9",
   "metadata": {},
   "outputs": [],
   "source": [
    "import pandas as pd"
   ]
  },
  {
   "cell_type": "code",
   "execution_count": 2,
   "id": "30df65d4",
   "metadata": {},
   "outputs": [
    {
     "name": "stdout",
     "output_type": "stream",
     "text": [
      "['show_id', 'type', 'title', 'director', 'cast', 'country', 'date_added', 'release_year', 'rating', 'duration', 'listed_in', 'description']\n"
     ]
    }
   ],
   "source": [
    "file_path = \"netflix_titles.csv\"\n",
    "original_data = pd.read_csv(file_path)\n",
    "\n",
    "column_names = original_data.columns.tolist()\n",
    "print(column_names)"
   ]
  },
  {
   "cell_type": "code",
   "execution_count": 3,
   "metadata": {},
   "outputs": [
    {
     "name": "stdout",
     "output_type": "stream",
     "text": [
      "   id     type                  title         director  \\\n",
      "0  s1    Movie   Dick Johnson Is Dead  Kirsten Johnson   \n",
      "1  s2  TV Show          Blood & Water              NaN   \n",
      "2  s3  TV Show              Ganglands  Julien Leclercq   \n",
      "3  s4  TV Show  Jailbirds New Orleans              NaN   \n",
      "4  s5  TV Show           Kota Factory              NaN   \n",
      "\n",
      "                                                cast        country  \\\n",
      "0                                                NaN  United States   \n",
      "1  Ama Qamata, Khosi Ngema, Gail Mabalane, Thaban...   South Africa   \n",
      "2  Sami Bouajila, Tracy Gotoas, Samuel Jouy, Nabi...            NaN   \n",
      "3                                                NaN            NaN   \n",
      "4  Mayur More, Jitendra Kumar, Ranjan Raj, Alam K...          India   \n",
      "\n",
      "  date added to netflix  release year rating   duration  \\\n",
      "0    September 25, 2021          2020  PG-13     90 min   \n",
      "1    September 24, 2021          2021  TV-MA  2 Seasons   \n",
      "2    September 24, 2021          2021  TV-MA   1 Season   \n",
      "3    September 24, 2021          2021  TV-MA   1 Season   \n",
      "4    September 24, 2021          2021  TV-MA  2 Seasons   \n",
      "\n",
      "                                            category  \\\n",
      "0                                      Documentaries   \n",
      "1    International TV Shows, TV Dramas, TV Mysteries   \n",
      "2  Crime TV Shows, International TV Shows, TV Act...   \n",
      "3                             Docuseries, Reality TV   \n",
      "4  International TV Shows, Romantic TV Shows, TV ...   \n",
      "\n",
      "                                         description  \n",
      "0  As her father nears the end of his life, filmm...  \n",
      "1  After crossing paths at a party, a Cape Town t...  \n",
      "2  To protect his family from a powerful drug lor...  \n",
      "3  Feuds, flirtations and toilet talk go down amo...  \n",
      "4  In a city of coaching centers known to train I...  \n"
     ]
    }
   ],
   "source": [
    "# Select only the columns we need\n",
    "selected_columns = ['show_id', 'type', 'title', 'director', 'cast', 'country', 'date_added', 'release_year', 'rating', 'duration', 'listed_in', 'description']\n",
    "filtered_data = original_data[selected_columns]\n",
    "\n",
    "# rename the colume for later use\n",
    "filtered_data.columns = ['id', 'type', 'title', 'director', 'cast', 'country', 'date added to netflix', 'release year','rating', 'duration','category', 'description']\n",
    "\n",
    "print(filtered_data.head())"
   ]
  },
  {
   "cell_type": "code",
   "execution_count": 4,
   "id": "62803955",
   "metadata": {},
   "outputs": [
    {
     "name": "stdout",
     "output_type": "stream",
     "text": [
      "All label： {'Thrillers', 'TV Sci-Fi & Fantasy', 'TV Thrillers', 'Movies', 'Dramas', 'Sci-Fi & Fantasy', 'Romantic TV Shows', 'TV Comedies', 'Spanish-Language TV Shows', 'Docuseries', 'Classic Movies', \"Kids' TV\", 'Children & Family Movies', 'British TV Shows', 'TV Horror', 'Independent Movies', 'Anime Features', 'Anime Series', 'International TV Shows', 'Crime TV Shows', 'Teen TV Shows', 'Classic & Cult TV', 'Science & Nature TV', 'TV Shows', 'Sports Movies', 'Horror Movies', 'TV Action & Adventure', 'Music & Musicals', 'International Movies', 'Romantic Movies', 'Korean TV Shows', 'Reality TV', 'Stand-Up Comedy & Talk Shows', 'Cult Movies', 'TV Mysteries', 'Action & Adventure', 'TV Dramas', 'Documentaries', 'Faith & Spirituality', 'Comedies', 'LGBTQ Movies', 'Stand-Up Comedy'}\n"
     ]
    }
   ],
   "source": [
    "# Apply a lambda function to split the 'category' column into a list of labels, stripping any leading or trailing whitespaces\n",
    "filtered_data['category'] = filtered_data['category'].apply(lambda x: [label.strip() for label in x.split(',')])\n",
    "\n",
    "# Create a set containing all unique labels from the 'category' column\n",
    "all_labels = set(label for labels in filtered_data['category'] for label in labels)\n",
    "\n",
    "# Print all unique labels\n",
    "print(\"All label：\", all_labels)\n",
    "\n",
    "# Iterate through each unique label\n",
    "for label in all_labels:\n",
    "    # # Create a new binary column for each unique label, indicating the presence (1) or absence (0) of the label in the 'category' list\n",
    "    filtered_data[label] = filtered_data['category'].apply(lambda x: 1 if label in x else 0)\n",
    "\n",
    "# Drop the original 'category' column, as it has been replaced by binary columns for each unique label\n",
    "filtered_data.drop('category', axis=1, inplace=True)\n",
    "\n",
    "# print(filtered_data.head())"
   ]
  },
  {
   "cell_type": "code",
   "execution_count": 4,
   "id": "7d2ab6aa",
   "metadata": {},
   "outputs": [],
   "source": [
    "# Save multi-tagged processed datasets for text pre-processing and dataset segmentation\n",
    "output_path = \"preprocessed_netflix_titles.csv\"\n",
    "filtered_data.to_csv(output_path, index=False) "
   ]
  },
  {
   "cell_type": "markdown",
   "metadata": {},
   "source": [
    "### Data clean"
   ]
  },
  {
   "cell_type": "code",
   "execution_count": 3,
   "metadata": {},
   "outputs": [
    {
     "name": "stdout",
     "output_type": "stream",
     "text": [
      "Number of nulls in each column:\n",
      "id                                 0\n",
      "type                               0\n",
      "title                              0\n",
      "director                        2634\n",
      "cast                             825\n",
      "country                          831\n",
      "date added to netflix             10\n",
      "release year                       0\n",
      "rating                             4\n",
      "duration                           3\n",
      "description                        0\n",
      "Thrillers                          0\n",
      "TV Sci-Fi & Fantasy                0\n",
      "TV Thrillers                       0\n",
      "Movies                             0\n",
      "Dramas                             0\n",
      "Sci-Fi & Fantasy                   0\n",
      "Romantic TV Shows                  0\n",
      "TV Comedies                        0\n",
      "Spanish-Language TV Shows          0\n",
      "Docuseries                         0\n",
      "Classic Movies                     0\n",
      "Kids' TV                           0\n",
      "Children & Family Movies           0\n",
      "British TV Shows                   0\n",
      "TV Horror                          0\n",
      "Independent Movies                 0\n",
      "Anime Features                     0\n",
      "Anime Series                       0\n",
      "International TV Shows             0\n",
      "Crime TV Shows                     0\n",
      "Teen TV Shows                      0\n",
      "Classic & Cult TV                  0\n",
      "Science & Nature TV                0\n",
      "TV Shows                           0\n",
      "Sports Movies                      0\n",
      "Horror Movies                      0\n",
      "TV Action & Adventure              0\n",
      "Music & Musicals                   0\n",
      "International Movies               0\n",
      "Romantic Movies                    0\n",
      "Korean TV Shows                    0\n",
      "Reality TV                         0\n",
      "Stand-Up Comedy & Talk Shows       0\n",
      "Cult Movies                        0\n",
      "TV Mysteries                       0\n",
      "Action & Adventure                 0\n",
      "TV Dramas                          0\n",
      "Documentaries                      0\n",
      "Faith & Spirituality               0\n",
      "Comedies                           0\n",
      "LGBTQ Movies                       0\n",
      "Stand-Up Comedy                    0\n",
      "dtype: int64\n"
     ]
    }
   ],
   "source": [
    "df = pd.read_csv(\"preprocessed_netflix_titles.csv\")\n",
    "\n",
    "# Calculate the number of nulls per column\n",
    "null_counts = df.isnull().sum()\n",
    "\n",
    "print(\"Number of nulls in each column:\")\n",
    "print(null_counts)"
   ]
  },
  {
   "cell_type": "code",
   "execution_count": 4,
   "metadata": {},
   "outputs": [],
   "source": [
    "df.fillna('Unknown', inplace=True)"
   ]
  },
  {
   "cell_type": "code",
   "execution_count": 5,
   "metadata": {},
   "outputs": [
    {
     "name": "stdout",
     "output_type": "stream",
     "text": [
      " The column 'rating' includes the following:\n",
      "['PG-13' 'TV-MA' 'PG' 'TV-14' 'TV-PG' 'TV-Y' 'TV-Y7' 'R' 'TV-G' 'G'\n",
      " 'NC-17' '74 min' '84 min' '66 min' 'NR' 'Unknown' 'TV-Y7-FV' 'UR']\n"
     ]
    }
   ],
   "source": [
    "#  Get the unique value in the column \"rating\"\n",
    "ratings = df[\"rating\"].unique()\n",
    "\n",
    "print(\" The column 'rating' includes the following:\")\n",
    "print(ratings)"
   ]
  },
  {
   "cell_type": "code",
   "execution_count": 6,
   "metadata": {},
   "outputs": [
    {
     "name": "stdout",
     "output_type": "stream",
     "text": [
      "['PG-13' 'TV-MA' 'PG' 'TV-14' 'TV-PG' 'TV-Y' 'TV-Y7' 'R' 'TV-G' 'G'\n",
      " 'NC-17' 'Unknown' 'NR' 'TV-Y7-FV' 'UR']\n"
     ]
    }
   ],
   "source": [
    "df['rating'] = df['rating'].replace(['74 min', '84 min', '66 min'], 'Unknown')\n",
    "\n",
    "print(df['rating'].unique())"
   ]
  },
  {
   "cell_type": "code",
   "execution_count": 7,
   "metadata": {},
   "outputs": [],
   "source": [
    "df.to_csv(\"preprocessed_netflix_titles.csv\", index=False)"
   ]
  }
 ],
 "metadata": {
  "kernelspec": {
   "display_name": "Python 3 (ipykernel)",
   "language": "python",
   "name": "python3"
  },
  "language_info": {
   "codemirror_mode": {
    "name": "ipython",
    "version": 3
   },
   "file_extension": ".py",
   "mimetype": "text/x-python",
   "name": "python",
   "nbconvert_exporter": "python",
   "pygments_lexer": "ipython3",
   "version": "3.9.4"
  },
  "vscode": {
   "interpreter": {
    "hash": "865d8b2eb28e274047ba64063dfb6a2aabf0dfec4905d304d7a76618dae6fdd4"
   }
  }
 },
 "nbformat": 4,
 "nbformat_minor": 5
}
